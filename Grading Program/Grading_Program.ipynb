{
  "nbformat": 4,
  "nbformat_minor": 0,
  "metadata": {
    "kernelspec": {
      "display_name": "Python 3",
      "language": "python",
      "name": "python3"
    },
    "language_info": {
      "codemirror_mode": {
        "name": "ipython",
        "version": 3
      },
      "file_extension": ".py",
      "mimetype": "text/x-python",
      "name": "python",
      "nbconvert_exporter": "python",
      "pygments_lexer": "ipython3",
      "version": "3.6.7"
    },
    "colab": {
      "name": "Grading Program.ipynb",
      "provenance": [],
      "collapsed_sections": []
    }
  },
  "cells": [
    {
      "cell_type": "markdown",
      "metadata": {
        "id": "lRkyh5TSJmQV"
      },
      "source": [
        "# Haruki Honda#\n",
        "# Lab Course Machine Learning #\n",
        "##### This task puts you in the position that I end up at the end of every semester. Which is, grading your work and issuing the grades. In this task you are required to use the `Grades.csv' File that has been provided on learnweb. #####\n",
        "#### ・Grading Program: ####\n",
        "#### ・Read the data from the csv. ####\n",
        "#### ・For each student, #####"
      ]
    },
    {
      "cell_type": "code",
      "metadata": {
        "id": "4aCye65pJmQX",
        "outputId": "c2a5e958-5ca0-4c62-b91e-fc0fa8df7eee"
      },
      "source": [
        "import pandas as pd\n",
        "from IPython.display import display\n",
        "df1= pd.read_csv('/Users/HarukiHonda/Desktop/Grades.csv')\n",
        "display(df1)"
      ],
      "execution_count": null,
      "outputs": [
        {
          "data": {
            "text/html": [
              "<div>\n",
              "<style>\n",
              "    .dataframe thead tr:only-child th {\n",
              "        text-align: right;\n",
              "    }\n",
              "\n",
              "    .dataframe thead th {\n",
              "        text-align: left;\n",
              "    }\n",
              "\n",
              "    .dataframe tbody tr th {\n",
              "        vertical-align: top;\n",
              "    }\n",
              "</style>\n",
              "<table border=\"1\" class=\"dataframe\">\n",
              "  <thead>\n",
              "    <tr style=\"text-align: right;\">\n",
              "      <th></th>\n",
              "      <th>First Name</th>\n",
              "      <th>Last Name</th>\n",
              "      <th>English</th>\n",
              "      <th>Maths</th>\n",
              "      <th>Science</th>\n",
              "      <th>German</th>\n",
              "      <th>Sports</th>\n",
              "      <th>Final Grade</th>\n",
              "    </tr>\n",
              "  </thead>\n",
              "  <tbody>\n",
              "    <tr>\n",
              "      <th>0</th>\n",
              "      <td>Robyn</td>\n",
              "      <td>Hobgood</td>\n",
              "      <td>60.95</td>\n",
              "      <td>24.77</td>\n",
              "      <td>20.60</td>\n",
              "      <td>69.32</td>\n",
              "      <td>8.36</td>\n",
              "      <td>184.00</td>\n",
              "    </tr>\n",
              "    <tr>\n",
              "      <th>1</th>\n",
              "      <td>Eddy</td>\n",
              "      <td>Swearngin</td>\n",
              "      <td>100.00</td>\n",
              "      <td>12.99</td>\n",
              "      <td>100.00</td>\n",
              "      <td>52.24</td>\n",
              "      <td>100.00</td>\n",
              "      <td>365.23</td>\n",
              "    </tr>\n",
              "    <tr>\n",
              "      <th>2</th>\n",
              "      <td>Leoma</td>\n",
              "      <td>Bridgman</td>\n",
              "      <td>83.37</td>\n",
              "      <td>100.00</td>\n",
              "      <td>78.69</td>\n",
              "      <td>100.00</td>\n",
              "      <td>19.50</td>\n",
              "      <td>381.56</td>\n",
              "    </tr>\n",
              "    <tr>\n",
              "      <th>3</th>\n",
              "      <td>Arnetta</td>\n",
              "      <td>Peart</td>\n",
              "      <td>87.75</td>\n",
              "      <td>100.00</td>\n",
              "      <td>86.93</td>\n",
              "      <td>87.90</td>\n",
              "      <td>41.73</td>\n",
              "      <td>404.31</td>\n",
              "    </tr>\n",
              "    <tr>\n",
              "      <th>4</th>\n",
              "      <td>Maryland</td>\n",
              "      <td>Colby</td>\n",
              "      <td>100.00</td>\n",
              "      <td>100.00</td>\n",
              "      <td>100.00</td>\n",
              "      <td>18.87</td>\n",
              "      <td>88.72</td>\n",
              "      <td>407.59</td>\n",
              "    </tr>\n",
              "    <tr>\n",
              "      <th>5</th>\n",
              "      <td>Sherron</td>\n",
              "      <td>Sherron</td>\n",
              "      <td>92.06</td>\n",
              "      <td>55.91</td>\n",
              "      <td>93.93</td>\n",
              "      <td>-56.74</td>\n",
              "      <td>77.71</td>\n",
              "      <td>262.87</td>\n",
              "    </tr>\n",
              "    <tr>\n",
              "      <th>6</th>\n",
              "      <td>Glendora</td>\n",
              "      <td>Christopher</td>\n",
              "      <td>78.26</td>\n",
              "      <td>100.00</td>\n",
              "      <td>25.60</td>\n",
              "      <td>100.00</td>\n",
              "      <td>100.00</td>\n",
              "      <td>403.86</td>\n",
              "    </tr>\n",
              "    <tr>\n",
              "      <th>7</th>\n",
              "      <td>Darlena</td>\n",
              "      <td>Gunn</td>\n",
              "      <td>100.00</td>\n",
              "      <td>64.53</td>\n",
              "      <td>100.00</td>\n",
              "      <td>23.21</td>\n",
              "      <td>79.01</td>\n",
              "      <td>366.75</td>\n",
              "    </tr>\n",
              "    <tr>\n",
              "      <th>8</th>\n",
              "      <td>Aldo</td>\n",
              "      <td>Armas</td>\n",
              "      <td>100.00</td>\n",
              "      <td>83.49</td>\n",
              "      <td>100.00</td>\n",
              "      <td>100.00</td>\n",
              "      <td>92.32</td>\n",
              "      <td>475.81</td>\n",
              "    </tr>\n",
              "    <tr>\n",
              "      <th>9</th>\n",
              "      <td>Tiny</td>\n",
              "      <td>Jack</td>\n",
              "      <td>94.35</td>\n",
              "      <td>33.09</td>\n",
              "      <td>82.57</td>\n",
              "      <td>31.13</td>\n",
              "      <td>100.00</td>\n",
              "      <td>341.14</td>\n",
              "    </tr>\n",
              "    <tr>\n",
              "      <th>10</th>\n",
              "      <td>Carlton</td>\n",
              "      <td>Elms</td>\n",
              "      <td>100.00</td>\n",
              "      <td>36.52</td>\n",
              "      <td>5.54</td>\n",
              "      <td>33.82</td>\n",
              "      <td>12.07</td>\n",
              "      <td>187.95</td>\n",
              "    </tr>\n",
              "    <tr>\n",
              "      <th>11</th>\n",
              "      <td>Lauretta</td>\n",
              "      <td>Herbert</td>\n",
              "      <td>50.73</td>\n",
              "      <td>-0.10</td>\n",
              "      <td>67.76</td>\n",
              "      <td>100.00</td>\n",
              "      <td>55.98</td>\n",
              "      <td>274.37</td>\n",
              "    </tr>\n",
              "    <tr>\n",
              "      <th>12</th>\n",
              "      <td>Almeta</td>\n",
              "      <td>Dimond</td>\n",
              "      <td>80.37</td>\n",
              "      <td>100.00</td>\n",
              "      <td>69.02</td>\n",
              "      <td>100.00</td>\n",
              "      <td>79.62</td>\n",
              "      <td>429.01</td>\n",
              "    </tr>\n",
              "    <tr>\n",
              "      <th>13</th>\n",
              "      <td>Phoebe</td>\n",
              "      <td>Schill</td>\n",
              "      <td>100.00</td>\n",
              "      <td>70.37</td>\n",
              "      <td>100.00</td>\n",
              "      <td>47.00</td>\n",
              "      <td>77.37</td>\n",
              "      <td>394.74</td>\n",
              "    </tr>\n",
              "    <tr>\n",
              "      <th>14</th>\n",
              "      <td>Krystyna</td>\n",
              "      <td>Paris</td>\n",
              "      <td>18.75</td>\n",
              "      <td>73.80</td>\n",
              "      <td>87.00</td>\n",
              "      <td>59.30</td>\n",
              "      <td>100.00</td>\n",
              "      <td>338.85</td>\n",
              "    </tr>\n",
              "    <tr>\n",
              "      <th>15</th>\n",
              "      <td>Miyoko</td>\n",
              "      <td>Laffoon</td>\n",
              "      <td>100.00</td>\n",
              "      <td>100.00</td>\n",
              "      <td>100.00</td>\n",
              "      <td>34.98</td>\n",
              "      <td>94.55</td>\n",
              "      <td>429.53</td>\n",
              "    </tr>\n",
              "    <tr>\n",
              "      <th>16</th>\n",
              "      <td>Rebecca</td>\n",
              "      <td>Duck</td>\n",
              "      <td>70.79</td>\n",
              "      <td>97.81</td>\n",
              "      <td>52.25</td>\n",
              "      <td>19.76</td>\n",
              "      <td>-13.93</td>\n",
              "      <td>226.68</td>\n",
              "    </tr>\n",
              "    <tr>\n",
              "      <th>17</th>\n",
              "      <td>Elwanda</td>\n",
              "      <td>Hyland</td>\n",
              "      <td>45.69</td>\n",
              "      <td>74.86</td>\n",
              "      <td>43.10</td>\n",
              "      <td>45.00</td>\n",
              "      <td>76.72</td>\n",
              "      <td>285.37</td>\n",
              "    </tr>\n",
              "    <tr>\n",
              "      <th>18</th>\n",
              "      <td>Gretchen</td>\n",
              "      <td>Kerrick</td>\n",
              "      <td>68.70</td>\n",
              "      <td>75.87</td>\n",
              "      <td>-14.87</td>\n",
              "      <td>57.32</td>\n",
              "      <td>84.28</td>\n",
              "      <td>271.30</td>\n",
              "    </tr>\n",
              "    <tr>\n",
              "      <th>19</th>\n",
              "      <td>Winnifred</td>\n",
              "      <td>Colonna</td>\n",
              "      <td>83.79</td>\n",
              "      <td>100.00</td>\n",
              "      <td>85.66</td>\n",
              "      <td>3.94</td>\n",
              "      <td>100.00</td>\n",
              "      <td>373.39</td>\n",
              "    </tr>\n",
              "    <tr>\n",
              "      <th>20</th>\n",
              "      <td>Gidget</td>\n",
              "      <td>Casseus</td>\n",
              "      <td>100.00</td>\n",
              "      <td>100.00</td>\n",
              "      <td>100.00</td>\n",
              "      <td>99.52</td>\n",
              "      <td>62.59</td>\n",
              "      <td>462.11</td>\n",
              "    </tr>\n",
              "    <tr>\n",
              "      <th>21</th>\n",
              "      <td>Elaina</td>\n",
              "      <td>Mcdougal</td>\n",
              "      <td>100.00</td>\n",
              "      <td>100.00</td>\n",
              "      <td>80.29</td>\n",
              "      <td>100.00</td>\n",
              "      <td>-36.81</td>\n",
              "      <td>343.48</td>\n",
              "    </tr>\n",
              "    <tr>\n",
              "      <th>22</th>\n",
              "      <td>Shoshana</td>\n",
              "      <td>Goldberger</td>\n",
              "      <td>55.10</td>\n",
              "      <td>100.00</td>\n",
              "      <td>100.00</td>\n",
              "      <td>100.00</td>\n",
              "      <td>100.00</td>\n",
              "      <td>455.10</td>\n",
              "    </tr>\n",
              "    <tr>\n",
              "      <th>23</th>\n",
              "      <td>Argentina</td>\n",
              "      <td>Nelson</td>\n",
              "      <td>100.00</td>\n",
              "      <td>100.00</td>\n",
              "      <td>40.44</td>\n",
              "      <td>100.00</td>\n",
              "      <td>100.00</td>\n",
              "      <td>440.44</td>\n",
              "    </tr>\n",
              "    <tr>\n",
              "      <th>24</th>\n",
              "      <td>Lyle</td>\n",
              "      <td>Millsaps</td>\n",
              "      <td>100.00</td>\n",
              "      <td>71.88</td>\n",
              "      <td>100.00</td>\n",
              "      <td>-17.33</td>\n",
              "      <td>100.00</td>\n",
              "      <td>354.55</td>\n",
              "    </tr>\n",
              "    <tr>\n",
              "      <th>25</th>\n",
              "      <td>Janay</td>\n",
              "      <td>Julius</td>\n",
              "      <td>41.70</td>\n",
              "      <td>100.00</td>\n",
              "      <td>55.90</td>\n",
              "      <td>75.53</td>\n",
              "      <td>100.00</td>\n",
              "      <td>373.13</td>\n",
              "    </tr>\n",
              "    <tr>\n",
              "      <th>26</th>\n",
              "      <td>Devorah</td>\n",
              "      <td>Heyden</td>\n",
              "      <td>0.84</td>\n",
              "      <td>18.61</td>\n",
              "      <td>50.14</td>\n",
              "      <td>83.58</td>\n",
              "      <td>65.68</td>\n",
              "      <td>218.85</td>\n",
              "    </tr>\n",
              "    <tr>\n",
              "      <th>27</th>\n",
              "      <td>Thelma</td>\n",
              "      <td>Romberger</td>\n",
              "      <td>72.41</td>\n",
              "      <td>61.00</td>\n",
              "      <td>100.00</td>\n",
              "      <td>76.38</td>\n",
              "      <td>51.37</td>\n",
              "      <td>361.16</td>\n",
              "    </tr>\n",
              "    <tr>\n",
              "      <th>28</th>\n",
              "      <td>Armanda</td>\n",
              "      <td>Hendley</td>\n",
              "      <td>35.40</td>\n",
              "      <td>66.92</td>\n",
              "      <td>69.67</td>\n",
              "      <td>71.08</td>\n",
              "      <td>-2.34</td>\n",
              "      <td>240.73</td>\n",
              "    </tr>\n",
              "    <tr>\n",
              "      <th>29</th>\n",
              "      <td>Raymon</td>\n",
              "      <td>Myerson</td>\n",
              "      <td>49.83</td>\n",
              "      <td>27.36</td>\n",
              "      <td>61.90</td>\n",
              "      <td>72.97</td>\n",
              "      <td>13.11</td>\n",
              "      <td>225.17</td>\n",
              "    </tr>\n",
              "  </tbody>\n",
              "</table>\n",
              "</div>"
            ],
            "text/plain": [
              "   First Name    Last Name  English   Maths  Science  German  Sports  \\\n",
              "0       Robyn      Hobgood    60.95   24.77    20.60   69.32    8.36   \n",
              "1        Eddy    Swearngin   100.00   12.99   100.00   52.24  100.00   \n",
              "2       Leoma     Bridgman    83.37  100.00    78.69  100.00   19.50   \n",
              "3     Arnetta        Peart    87.75  100.00    86.93   87.90   41.73   \n",
              "4    Maryland        Colby   100.00  100.00   100.00   18.87   88.72   \n",
              "5     Sherron      Sherron    92.06   55.91    93.93  -56.74   77.71   \n",
              "6    Glendora  Christopher    78.26  100.00    25.60  100.00  100.00   \n",
              "7     Darlena         Gunn   100.00   64.53   100.00   23.21   79.01   \n",
              "8        Aldo        Armas   100.00   83.49   100.00  100.00   92.32   \n",
              "9        Tiny         Jack    94.35   33.09    82.57   31.13  100.00   \n",
              "10    Carlton         Elms   100.00   36.52     5.54   33.82   12.07   \n",
              "11   Lauretta      Herbert    50.73   -0.10    67.76  100.00   55.98   \n",
              "12     Almeta       Dimond    80.37  100.00    69.02  100.00   79.62   \n",
              "13     Phoebe       Schill   100.00   70.37   100.00   47.00   77.37   \n",
              "14   Krystyna        Paris    18.75   73.80    87.00   59.30  100.00   \n",
              "15     Miyoko      Laffoon   100.00  100.00   100.00   34.98   94.55   \n",
              "16    Rebecca         Duck    70.79   97.81    52.25   19.76  -13.93   \n",
              "17    Elwanda       Hyland    45.69   74.86    43.10   45.00   76.72   \n",
              "18   Gretchen      Kerrick    68.70   75.87   -14.87   57.32   84.28   \n",
              "19  Winnifred      Colonna    83.79  100.00    85.66    3.94  100.00   \n",
              "20     Gidget      Casseus   100.00  100.00   100.00   99.52   62.59   \n",
              "21     Elaina     Mcdougal   100.00  100.00    80.29  100.00  -36.81   \n",
              "22   Shoshana   Goldberger    55.10  100.00   100.00  100.00  100.00   \n",
              "23  Argentina       Nelson   100.00  100.00    40.44  100.00  100.00   \n",
              "24       Lyle     Millsaps   100.00   71.88   100.00  -17.33  100.00   \n",
              "25      Janay       Julius    41.70  100.00    55.90   75.53  100.00   \n",
              "26    Devorah       Heyden     0.84   18.61    50.14   83.58   65.68   \n",
              "27     Thelma    Romberger    72.41   61.00   100.00   76.38   51.37   \n",
              "28    Armanda      Hendley    35.40   66.92    69.67   71.08   -2.34   \n",
              "29     Raymon      Myerson    49.83   27.36    61.90   72.97   13.11   \n",
              "\n",
              "    Final Grade  \n",
              "0        184.00  \n",
              "1        365.23  \n",
              "2        381.56  \n",
              "3        404.31  \n",
              "4        407.59  \n",
              "5        262.87  \n",
              "6        403.86  \n",
              "7        366.75  \n",
              "8        475.81  \n",
              "9        341.14  \n",
              "10       187.95  \n",
              "11       274.37  \n",
              "12       429.01  \n",
              "13       394.74  \n",
              "14       338.85  \n",
              "15       429.53  \n",
              "16       226.68  \n",
              "17       285.37  \n",
              "18       271.30  \n",
              "19       373.39  \n",
              "20       462.11  \n",
              "21       343.48  \n",
              "22       455.10  \n",
              "23       440.44  \n",
              "24       354.55  \n",
              "25       373.13  \n",
              "26       218.85  \n",
              "27       361.16  \n",
              "28       240.73  \n",
              "29       225.17  "
            ]
          },
          "metadata": {},
          "output_type": "display_data"
        }
      ]
    },
    {
      "cell_type": "markdown",
      "metadata": {
        "id": "KWB6g4-dJmQY"
      },
      "source": [
        "#### - Compute the sum for all subjects for each student. ####"
      ]
    },
    {
      "cell_type": "code",
      "metadata": {
        "id": "BkONbReAJmQY",
        "outputId": "2a5360e7-e88b-49e2-b2ae-d89173ef15b8"
      },
      "source": [
        "#get the final grade\n",
        "#####sumを使わない改善#####\n",
        "col_list= list(df1)\n",
        "list1 = ['First Name','Last Name','Final Grade']\n",
        "for i in list1:\n",
        "    col_list.remove(i)\n",
        "sumofSUBJECTS = df1[col_list].sum(axis=1)\n",
        "print(sumofSUBJECTS)"
      ],
      "execution_count": null,
      "outputs": [
        {
          "name": "stdout",
          "output_type": "stream",
          "text": [
            "0     184.00\n",
            "1     365.23\n",
            "2     381.56\n",
            "3     404.31\n",
            "4     407.59\n",
            "5     262.87\n",
            "6     403.86\n",
            "7     366.75\n",
            "8     475.81\n",
            "9     341.14\n",
            "10    187.95\n",
            "11    274.37\n",
            "12    429.01\n",
            "13    394.74\n",
            "14    338.85\n",
            "15    429.53\n",
            "16    226.68\n",
            "17    285.37\n",
            "18    271.30\n",
            "19    373.39\n",
            "20    462.11\n",
            "21    343.48\n",
            "22    455.10\n",
            "23    440.44\n",
            "24    354.55\n",
            "25    373.13\n",
            "26    218.85\n",
            "27    361.16\n",
            "28    240.73\n",
            "29    225.17\n",
            "dtype: float64\n"
          ]
        }
      ]
    },
    {
      "cell_type": "markdown",
      "metadata": {
        "id": "qTEfCQcoJmQZ"
      },
      "source": [
        "##### - Compute the average of the point for each student. (total points are 500). #####"
      ]
    },
    {
      "cell_type": "code",
      "metadata": {
        "id": "MjZNXIADJmQZ",
        "outputId": "4741e77d-d076-4c61-9b8d-a4a31e796d93"
      },
      "source": [
        "#生徒ごとの各教科の平均を求める\n",
        "sumofSUBJECTS = df1[col_list].mean(axis=1)\n",
        "print(sumofSUBJECTS)"
      ],
      "execution_count": null,
      "outputs": [
        {
          "name": "stdout",
          "output_type": "stream",
          "text": [
            "0     36.800\n",
            "1     73.046\n",
            "2     76.312\n",
            "3     80.862\n",
            "4     81.518\n",
            "5     52.574\n",
            "6     80.772\n",
            "7     73.350\n",
            "8     95.162\n",
            "9     68.228\n",
            "10    37.590\n",
            "11    54.874\n",
            "12    85.802\n",
            "13    78.948\n",
            "14    67.770\n",
            "15    85.906\n",
            "16    45.336\n",
            "17    57.074\n",
            "18    54.260\n",
            "19    74.678\n",
            "20    92.422\n",
            "21    68.696\n",
            "22    91.020\n",
            "23    88.088\n",
            "24    70.910\n",
            "25    74.626\n",
            "26    43.770\n",
            "27    72.232\n",
            "28    48.146\n",
            "29    45.034\n",
            "dtype: float64\n"
          ]
        }
      ]
    },
    {
      "cell_type": "markdown",
      "metadata": {
        "id": "RUef7WsDJmQZ"
      },
      "source": [
        "##### - Compute the standard deviation of point for each student. #####"
      ]
    },
    {
      "cell_type": "code",
      "metadata": {
        "id": "YlYLTN0jJmQc",
        "outputId": "bafd069b-0510-4007-9d9e-0a47cd494914"
      },
      "source": [
        "import numpy as np\n",
        "b = np.std(df1[col_list], axis=1)\n",
        "print(b)"
      ],
      "execution_count": null,
      "outputs": [
        {
          "name": "stdout",
          "output_type": "stream",
          "text": [
            "0     23.903001\n",
            "1     35.268023\n",
            "2     29.682710\n",
            "3     20.156265\n",
            "4     31.627183\n",
            "5     56.323993\n",
            "6     28.842357\n",
            "7     28.440438\n",
            "8      6.550287\n",
            "9     30.028162\n",
            "10    33.433034\n",
            "11    32.381913\n",
            "12    12.268053\n",
            "13    19.915423\n",
            "14    27.998671\n",
            "15    25.550337\n",
            "16    39.027736\n",
            "17    15.316375\n",
            "18    35.679200\n",
            "19    36.027503\n",
            "20    14.917158\n",
            "21    53.302454\n",
            "22    17.960000\n",
            "23    23.824000\n",
            "24    45.444302\n",
            "25    23.337873\n",
            "26    30.270354\n",
            "27    16.429731\n",
            "28    28.471076\n",
            "29    21.997253\n",
            "dtype: float64\n"
          ]
        }
      ]
    },
    {
      "cell_type": "markdown",
      "metadata": {
        "id": "DHdL7BEDJmQc"
      },
      "source": [
        "##### - Plot the average points for all the students (in one figure). #####"
      ]
    },
    {
      "cell_type": "code",
      "metadata": {
        "id": "mfE4IBhhJmQd",
        "outputId": "4fe7c678-a15d-4aad-a6e5-64a86f49f3cd"
      },
      "source": [
        "#折れ線グラフにする\n",
        "import matplotlib.pyplot as plt\n",
        "list0 = [\"English\", \"Maths\", \"Science\" ,\"German\",\"Sports\"]\n",
        "subjectNUM= len(list0)\n",
        "a = df1[\"Final Grade\"]/subjectNUM\n",
        "df_meanSCORE = pd.concat([df1[\"First Name\"],a], axis=1)\n",
        "print(df_meanSCORE)\n",
        "#-------------------\n",
        "fig = plt.figure(figsize=(16, 8))\n",
        "ax = fig.add_subplot(111)\n",
        "plt.plot(df_meanSCORE[\"First Name\"],df_meanSCORE[\"Final Grade\"])\n",
        "plt.axis([-1, 30, 0, 100])\n",
        "labels = ax.get_xticklabels()\n",
        "plt.setp(labels, rotation=70, fontsize=12)\n",
        "plt.show()"
      ],
      "execution_count": null,
      "outputs": [
        {
          "name": "stdout",
          "output_type": "stream",
          "text": [
            "   First Name  Final Grade\n",
            "0       Robyn       36.800\n",
            "1        Eddy       73.046\n",
            "2       Leoma       76.312\n",
            "3     Arnetta       80.862\n",
            "4    Maryland       81.518\n",
            "5     Sherron       52.574\n",
            "6    Glendora       80.772\n",
            "7     Darlena       73.350\n",
            "8        Aldo       95.162\n",
            "9        Tiny       68.228\n",
            "10    Carlton       37.590\n",
            "11   Lauretta       54.874\n",
            "12     Almeta       85.802\n",
            "13     Phoebe       78.948\n",
            "14   Krystyna       67.770\n",
            "15     Miyoko       85.906\n",
            "16    Rebecca       45.336\n",
            "17    Elwanda       57.074\n",
            "18   Gretchen       54.260\n",
            "19  Winnifred       74.678\n",
            "20     Gidget       92.422\n",
            "21     Elaina       68.696\n",
            "22   Shoshana       91.020\n",
            "23  Argentina       88.088\n",
            "24       Lyle       70.910\n",
            "25      Janay       74.626\n",
            "26    Devorah       43.770\n",
            "27     Thelma       72.232\n",
            "28    Armanda       48.146\n",
            "29     Raymon       45.034\n"
          ]
        },
        {
          "data": {
            "image/png": "[encoded data removed]",
            "text/plain": [
              "<Figure size 1152x576 with 1 Axes>"
            ]
          },
          "metadata": {},
          "output_type": "display_data"
        }
      ]
    },
    {
      "cell_type": "markdown",
      "metadata": {
        "id": "Yw7pFpjoJmQd"
      },
      "source": [
        "##### - For each student assign a grade based on the following rubric. #####"
      ]
    },
    {
      "cell_type": "code",
      "metadata": {
        "id": "f-cNLwtkJmQd",
        "outputId": "721bffc7-5574-41b2-b100-74555629be63"
      },
      "source": [
        "#8 diffrent grades\n",
        "listFinalGrade = df_meanSCORE[\"Final Grade\"]\n",
        "print(listFinalGrade)\n",
        "listNAME = df_meanSCORE[\"First Name\"]\n",
        "# Grade rubric has been assigned to point ranges\n",
        "def determine_grade(listFinalGrade):\n",
        "    list_grades = []\n",
        "    for i in listFinalGrade:\n",
        "        if i>=96:\n",
        "            list_grades.append('A+')\n",
        "        elif i>=90 and i<=95:\n",
        "            list_grades.append('A')\n",
        "        elif i>=86 and i<=89:\n",
        "            list_grades.append('A-')\n",
        "        elif i>=80 and i<=85:\n",
        "            list_grades.append('B+')\n",
        "        elif i>=76 and i<=79:\n",
        "            list_grades.append('B')\n",
        "        elif i>=70 and i<=75:\n",
        "            list_grades.append('B-')\n",
        "        elif i>=66 and i<=69:\n",
        "            list_grades.append('C+')\n",
        "        elif i>=60 and i<=65:\n",
        "            list_grades.append('C')\n",
        "        elif i>=56 and i<=60:\n",
        "            list_grades.append('D')\n",
        "        else:\n",
        "            list_grades.append('F')\n",
        "    return list_grades"
      ],
      "execution_count": null,
      "outputs": [
        {
          "name": "stdout",
          "output_type": "stream",
          "text": [
            "0     36.800\n",
            "1     73.046\n",
            "2     76.312\n",
            "3     80.862\n",
            "4     81.518\n",
            "5     52.574\n",
            "6     80.772\n",
            "7     73.350\n",
            "8     95.162\n",
            "9     68.228\n",
            "10    37.590\n",
            "11    54.874\n",
            "12    85.802\n",
            "13    78.948\n",
            "14    67.770\n",
            "15    85.906\n",
            "16    45.336\n",
            "17    57.074\n",
            "18    54.260\n",
            "19    74.678\n",
            "20    92.422\n",
            "21    68.696\n",
            "22    91.020\n",
            "23    88.088\n",
            "24    70.910\n",
            "25    74.626\n",
            "26    43.770\n",
            "27    72.232\n",
            "28    48.146\n",
            "29    45.034\n",
            "Name: Final Grade, dtype: float64\n"
          ]
        }
      ]
    },
    {
      "cell_type": "code",
      "metadata": {
        "id": "V-TnWhXlJmQe",
        "outputId": "7c4d68da-84ab-4dfa-d996-ed283fbc50a0"
      },
      "source": [
        "print(determine_grade(listFinalGrade))\n",
        "hist = determine_grade(listFinalGrade)"
      ],
      "execution_count": null,
      "outputs": [
        {
          "name": "stdout",
          "output_type": "stream",
          "text": [
            "['F', 'B-', 'B', 'B+', 'B+', 'F', 'B+', 'B-', 'F', 'C+', 'F', 'F', 'F', 'B', 'C+', 'F', 'F', 'D', 'F', 'B-', 'A', 'C+', 'A', 'A-', 'B-', 'B-', 'F', 'B-', 'F', 'F']\n"
          ]
        }
      ]
    },
    {
      "cell_type": "markdown",
      "metadata": {
        "id": "ES3lOjwtJmQe"
      },
      "source": [
        "##### - Plot the histogram of the final grades. #####"
      ]
    },
    {
      "cell_type": "code",
      "metadata": {
        "id": "8yjZCSl5JmQe",
        "outputId": "d23688f1-725c-4c12-98ea-9bd094f09232"
      },
      "source": [
        "plt.hist(hist)\n",
        "plt.show()"
      ],
      "execution_count": null,
      "outputs": [
        {
          "data": {
            "image/png": "[encoded data removed]",
            "text/plain": [
              "<Figure size 432x288 with 1 Axes>"
            ]
          },
          "metadata": {},
          "output_type": "display_data"
        }
      ]
    },
    {
      "cell_type": "markdown",
      "metadata": {
        "id": "X2r00k8NJmQf"
      },
      "source": [
        "### ・Matrix Multiplication: ### \n",
        "##### Using numpy you are required to use numpy for operation on matrices. Create a matrix A of dimensions n x m, where n = 100 and m = 20. Initialize Matrix A. Create a vector v of dimension m x 1. Initialize the matrix with random values and vector with normal distribution using μ = 5 and σ = 0.01. Perform following operation on them #####\n",
        "##### - Iterative multiply (element-wise) each row of matrix A with vector v and sum the result of each iteration in another vector c ##### "
      ]
    },
    {
      "cell_type": "code",
      "metadata": {
        "id": "adXdbubsJmQf",
        "outputId": "62a5f5c4-3b29-471a-f487-5f0254b98587"
      },
      "source": [
        "#100個の答えを得る\n",
        "A = np.random.random((100,20))\n",
        "v = np.random.normal(2, 0.01, (20, 1))\n",
        "c = np.zeros((100, 1))\n",
        "for i in range (A.shape[0]):# for each row of matrix A\n",
        "    summed=0 # each sum of vector c initiliazed as 0\n",
        "    for j in range (A.shape[1]): # for each element in any row of matrix A\n",
        "# element wise matrix multiplicaiton of matrix A and vector v\n",
        "        summed=A[i,j]*v[j,0]+summed\n",
        "# summation of result of each multiplication is the result of \\\n",
        "#each corresponding element of vector_c\n",
        "    c[i,0]=summed\n",
        "print(\"Vector C is Visuliazed:\")\n",
        "print(c.T)"
      ],
      "execution_count": null,
      "outputs": [
        {
          "name": "stdout",
          "output_type": "stream",
          "text": [
            "Vector C is Visuliazed:\n",
            "[[20.16304343 23.91236161 18.62983479 20.15775028 23.12236946 17.31558711\n",
            "  16.77751976 20.86559948 15.50516882 20.50624212 19.67052714 19.47131664\n",
            "  20.53486463 17.90623285 18.95500702 22.29438279 23.47491177 15.74989788\n",
            "  20.55460015 22.16425181 16.85861001 18.32959718 21.65922553 20.76359773\n",
            "  21.36965162 22.04761673 17.52724259 20.53479828 18.46320042 18.63884802\n",
            "  19.89242526 22.43486922 21.2882611  14.54656793 22.0193572  18.89772809\n",
            "  23.01076882 20.056952   21.86778971 23.74987965 20.67187663 24.8724352\n",
            "  21.33106868 18.54821043 21.41118271 19.86021312 22.22514067 17.7107085\n",
            "  22.539129   19.96479499 18.12944602 20.64720586 19.46857776 19.17053826\n",
            "  18.59619582 17.69084822 23.31955191 18.86270761 16.14196061 21.60965876\n",
            "  18.32356279 19.00216248 19.6210657  20.55737837 22.98916533 22.63614906\n",
            "  20.90413428 21.4362481  22.60661784 19.98383057 20.44226246 21.43841794\n",
            "  19.27458931 16.62980455 22.70767355 21.55261778 18.46471443 20.07297648\n",
            "  21.27250271 21.43303716 20.12405773 23.17941936 22.44236233 20.17444206\n",
            "  23.86196596 19.17104841 18.02156014 22.19016515 23.12054401 17.45125565\n",
            "  18.23356867 18.27082261 21.49055456 17.97356611 19.00639719 19.06052707\n",
            "  23.82748836 16.21042844 18.84867374 23.9083804 ]]\n"
          ]
        }
      ]
    },
    {
      "cell_type": "markdown",
      "metadata": {
        "id": "bYSsBwVFJmQf"
      },
      "source": [
        "##### - Find the mean and standard deviation of the new vector c #####"
      ]
    },
    {
      "cell_type": "code",
      "metadata": {
        "id": "ntpgwsG0JmQg",
        "outputId": "26890e97-88d7-4fff-88c1-be846cad8c3f"
      },
      "source": [
        "mean_sumc = np.mean(c)\n",
        "print(mean_sumc)\n",
        "mean_std =np.std(c)\n",
        "print(mean_std)"
      ],
      "execution_count": null,
      "outputs": [
        {
          "name": "stdout",
          "output_type": "stream",
          "text": [
            "20.22376046223614\n",
            "2.177809824171319\n"
          ]
        }
      ]
    },
    {
      "cell_type": "markdown",
      "metadata": {
        "id": "uliUTyHlJmQg"
      },
      "source": [
        "##### - Plot histogram of vector c using 5 bins #####\n",
        "##### - NOTE: You are no allowed to use ANY BUILTIN FUNCTIONS FOR CALCULATING THE MATRIX MULTIPLICATION. Implement it yourself. #####"
      ]
    },
    {
      "cell_type": "code",
      "metadata": {
        "id": "GKqPls0EJmQg",
        "outputId": "76c1a30b-90a0-45ec-96ca-670fe01397e7"
      },
      "source": [
        "import matplotlib.pyplot as plt \n",
        "\n",
        "histgram = np.histogram(c, bins=5) \n",
        "\n",
        "plt.hist(c, bins=5)\n",
        "print(histgram)\n",
        "plt.show()"
      ],
      "execution_count": null,
      "outputs": [
        {
          "name": "stdout",
          "output_type": "stream",
          "text": [
            "(array([ 5, 22, 32, 28, 13]), array([14.54656793, 16.61174138, 18.67691483, 20.74208829, 22.80726174,\n",
            "       24.8724352 ]))\n"
          ]
        },
        {
          "data": {
            "image/png": "[encoded data removed]",
            "text/plain": [
              "<Figure size 432x288 with 1 Axes>"
            ]
          },
          "metadata": {},
          "output_type": "display_data"
        }
      ]
    }
  ]
}